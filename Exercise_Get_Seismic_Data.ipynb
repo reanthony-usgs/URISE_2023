{
 "cells": [
  {
   "cell_type": "markdown",
   "id": "295cda8c",
   "metadata": {},
   "source": [
    "## Step 0: Load ObsPy Packages\n",
    "\n",
    "Here we are importing ObsPy modules to handle seismic data streams and UTCDateTime objects.\n",
    "We will print a statement to screen to make sure this is working"
   ]
  },
  {
   "cell_type": "code",
   "execution_count": null,
   "id": "b1209706",
   "metadata": {},
   "outputs": [],
   "source": [
    "from obspy import Stream, UTCDateTime\n",
    "print(\"Hello World, I ran this cell!\")"
   ]
  },
  {
   "cell_type": "markdown",
   "id": "1ae2ee42",
   "metadata": {},
   "source": [
    "Now we also import the Client Function to make Data Requests. We initialize the client object and here are setting it to pull data from IRIS"
   ]
  },
  {
   "cell_type": "code",
   "execution_count": null,
   "id": "ea721154",
   "metadata": {},
   "outputs": [],
   "source": [
    "from obspy.clients.fdsn import Client\n",
    "client = Client(\"IRIS\")\n",
    "print(\"Client Initialized\")"
   ]
  },
  {
   "cell_type": "markdown",
   "id": "de397465",
   "metadata": {},
   "source": [
    "# Step 1: Find Earthquakes\n",
    "\n",
    "We will search for events of Magnitude 7 or larger that have happened this year. These Earthquakes are detected by agencies across the glove and characteristics of the earthquake (Magnitude, location, time, slip-mechanism) are cataloged by the [U.S. Geological Survey National Earthquake Information Center](https://www.usgs.gov/programs/earthquake-hazards/national-earthquake-information-center-neic). The catalog gives you the time origin time of each event, the Epicenter location, and the size of the Earthquake.  \n",
    "\n",
    "**Question: Typically, we expect there to be about 10 M7 and greater earthquakes each year. How many M7 or larger events do you expect to have happened so far in 2023?** \n"
   ]
  },
  {
   "cell_type": "code",
   "execution_count": null,
   "id": "f7318f57",
   "metadata": {},
   "outputs": [],
   "source": [
    "stime = UTCDateTime(\"2023-01-01\")\n",
    "etime = UTCDateTime(\"2023-05-30\")\n",
    "My_Earthquakes = client.get_events(starttime=stime,endtime=etime,minmagnitude=7.0,catalog=\"NEIC PDE\")\n",
    "print(My_Earthquakes.__str__(print_all=True))"
   ]
  },
  {
   "cell_type": "markdown",
   "id": "33e47146",
   "metadata": {},
   "source": [
    "We can quickly plot where these earthquakes are in Obspy! "
   ]
  },
  {
   "cell_type": "code",
   "execution_count": null,
   "id": "1be5c95c",
   "metadata": {},
   "outputs": [],
   "source": [
    "My_Earthquakes.plot()"
   ]
  },
  {
   "cell_type": "markdown",
   "id": "a8e5d007",
   "metadata": {},
   "source": [
    "## Step 2: Find Some Seismic Stations that Recorded Earthquakes\n",
    "\n",
    "\n",
    "Now that we have some earthquakes, what do we need to see how the ground moved? Seismic Data! \n",
    "\n",
    "We will create an \"inventory object\" to find seismic stations\n",
    "\n",
    "Let's look at the Global Seismographic Network (USGS portion has network code \"IU\") to see which stations are available. To simplify, we will just look at stations that end in the leter \"O.\" Below we use the wild card * to indicate that we don't care what the station name starts with as long as it ends on \"O.\" Many of these stations were installed as part of a borehole seismometer network called the Seismic Research Observatory in the 1970s. "
   ]
  },
  {
   "cell_type": "code",
   "execution_count": null,
   "id": "7d919466",
   "metadata": {},
   "outputs": [],
   "source": [
    "My_stations = client.get_stations(network=\"IU\", station=\"*O\",starttime=stime,endtime=etime,level='response')\n",
    "My_stations.plot()"
   ]
  },
  {
   "cell_type": "markdown",
   "id": "f73f90b0",
   "metadata": {},
   "source": [
    "Our SNCL puzzle for seismic data is now halfway complete. We have network (IU) and stations (for instance NWAO). What locations and channels of data can we get from this station?\n",
    "\n",
    "Let's say we want vertical component ground motion sampled at 1 sample per second. We can find this by searching for channgels that have the code \"L?Z\"\n",
    "\n",
    "    Where L indicates 1 sample per second \n",
    "    ? is a wild card (we will accept any letter in this spot)\n",
    "    Z indicates vertical component \n",
    "\n",
    "you can learn more about channel codes [here](https://ds.iris.edu/ds/nodes/dmc/data/formats/seed-channel-naming/)\n",
    "\n",
    "\n",
    "2 options (let's do both to see if they agree!): \n",
    "\n",
    "1) manually search the [IRIS MDA](http://ds.iris.edu/mda/IU/NWAO/)\n",
    "2) Get the information from the \"inventory object\" we created (next cell) for this station and looking for sensors that record \"L?Z\" data\n",
    "\n",
    "\n"
   ]
  },
  {
   "cell_type": "code",
   "execution_count": null,
   "id": "7f3cd581",
   "metadata": {},
   "outputs": [],
   "source": [
    "station_info = My_stations.select(station=\"NWAO\", channel=\"L?Z\")\n",
    "print(station_info)"
   ]
  },
  {
   "cell_type": "markdown",
   "id": "411723d8",
   "metadata": {},
   "source": [
    "We have 3 sensors that match our request:\n",
    "1. 00 LHZ\n",
    "2. 10 LHZ\n",
    "3. 20 LNZ\n",
    "\n",
    "**Question: Which of these channels is different from the others? Think about why (hint read the channel code docs above or look at the MDA again).** \n",
    "\n",
    "We have data from 3 sensors, so we will have 3 location codes. Let's write a happy little \"for loop\" to get a little more information on each of our sensors. "
   ]
  },
  {
   "cell_type": "code",
   "execution_count": null,
   "id": "672977a2",
   "metadata": {},
   "outputs": [],
   "source": [
    "for channel in station_info[0][0]:\n",
    "    print(channel)\n",
    "    "
   ]
  },
  {
   "cell_type": "markdown",
   "id": "d3c78dd9",
   "metadata": {},
   "source": [
    "**Question: Which sensor above is the deepest? How Deep?**\n",
    "\n",
    "**Question: What type of sensor is the 20 location code? Is this what you would expect for \"LNZ\" data?**\n"
   ]
  },
  {
   "cell_type": "markdown",
   "id": "2fc103c0",
   "metadata": {},
   "source": [
    "# Step 3: Request Seismic Data and Plot Seismograms \n",
    "\n",
    "We will get 2 days of data from May 19th to May 21st on station NWAO. \n",
    "\n",
    "The first step to get our data is to identify which SNCLs we want. We will specify the Network (IU), station name (NWAO), the 3 sensor locations (00,10,20), and the channels (\"L?Z\") we want to look at (as determined above).\n",
    "\n",
    "We will also initilize a stream object to store the seisimic data. \n",
    "\n",
    "Then finally, for each seismic instrument, we will request data from IRIS and print out what we got.\n",
    "\n",
    " **Question: Before you run this cell below, how many different seismograms (called a \"Trace\" in ObsPy Speak) do you expect to receive?**\n",
    " "
   ]
  },
  {
   "cell_type": "code",
   "execution_count": null,
   "id": "0975b57b",
   "metadata": {},
   "outputs": [],
   "source": [
    "start_of_data = UTCDateTime(\"2023-05-19T00:00:00\")\n",
    "end_of_data = UTCDateTime(\"2023-05-21T00:00:00\")\n",
    "\n",
    "net = \"IU\"\n",
    "sta = \"NWAO\"\n",
    "locs = [\"00\", \"10\", \"20\"]\n",
    "chan = \"L?Z\"\n",
    "\n",
    "\n",
    "My_data = Stream()\n",
    "for loc in locs:\n",
    "    My_data += client.get_waveforms(network=net, station = sta,\n",
    "    location = loc, channel = chan, starttime = start_of_data, endtime = end_of_data) \n",
    "    \n",
    "print(My_data)"
   ]
  },
  {
   "cell_type": "markdown",
   "id": "e910252a",
   "metadata": {},
   "source": [
    "Now let's plot the data! "
   ]
  },
  {
   "cell_type": "code",
   "execution_count": null,
   "id": "01a378e4",
   "metadata": {},
   "outputs": [],
   "source": [
    "My_data.plot(equal_scale=False)"
   ]
  },
  {
   "cell_type": "markdown",
   "id": "d46c3556",
   "metadata": {},
   "source": [
    "Note that the scale of the plots are different. **Question: What are the units of the y-axis?** \n",
    "\n",
    "**Question: We have large signals around 03:00 on May 19th and 02:00 on May 20th on both the \"00\" and \"10\" sensors. What are these signals? (Hint: you already plotted the location of the sources). Are they really bigger on the \"10\" seismomter than the \"00\"?**\n",
    "\n",
    "**Something to think about: However, the signal is barely visibile on the \"20\" - why might this be. What's different about this sensor?** "
   ]
  },
  {
   "cell_type": "markdown",
   "id": "6be21363",
   "metadata": {},
   "source": [
    "To compare apples to apples, let's look at ground velocity on all the sensors. To do this we will remove the instrument response. "
   ]
  },
  {
   "cell_type": "code",
   "execution_count": null,
   "id": "b735f162",
   "metadata": {},
   "outputs": [],
   "source": [
    "My_data.remove_response(inventory=My_stations, output='VEL')\n",
    "\n",
    "My_data.plot(equal_scale=False)"
   ]
  },
  {
   "cell_type": "markdown",
   "id": "7c8507b1",
   "metadata": {},
   "source": [
    "**Question: What are the units on the Y-axis now?** \n",
    "\n",
    "**Something to think about: We have a really large signal that peaks about twice a day on the \"00\" sensor - Any idea what that is? In contrast - we have even larger signals that peak once a day (around 1 to 5 pm local time - keep in mind the time on the X-axis is UTC!). Any idea what this is?** \n",
    "\n",
    "\n",
    "\n",
    "\n",
    "\n",
    "Let's multiply the data by a factor of 1000 and highpass filter out these very long signals and only focus on seismic energy below 1000 s period (oscillation of the ground that are faster than once every ~17 minutes). Recall that frequency is the inverse of period. \n"
   ]
  },
  {
   "cell_type": "code",
   "execution_count": null,
   "id": "7e72d3ec",
   "metadata": {},
   "outputs": [],
   "source": [
    "for trace in My_data:\n",
    "    trace.data*=1000\n",
    "\n",
    "My_data.filter(\"highpass\", freq=1/1000.)\n",
    "My_data.plot(equal_scale=False)\n"
   ]
  },
  {
   "cell_type": "markdown",
   "id": "df448f62",
   "metadata": {},
   "source": [
    "Hmmm.....What's that big signal at the start of \"20\" sensor? It's filter ring from applying the high-pass filter. We will trim out data to remove that. Let's focus only of the large signal on May 20th"
   ]
  },
  {
   "cell_type": "code",
   "execution_count": null,
   "id": "5569d98d",
   "metadata": {},
   "outputs": [],
   "source": [
    "trim_start = UTCDateTime(\"2023-05-19T03:00:00\")\n",
    "trim_end =  UTCDateTime(\"2023-05-19T06:00:00\")\n",
    "\n",
    "My_trimmed_data = My_data.copy()\n",
    "My_trimmed_data.trim(trim_start,trim_end)\n",
    "\n",
    "\n",
    "My_trimmed_data.plot()"
   ]
  },
  {
   "cell_type": "markdown",
   "id": "25611cea",
   "metadata": {},
   "source": [
    "Alright, we finally have estimates of vertical ground velocity (in mm/s) for the M 7.7 Earthquake on May 20th for 3 different sensors. \n",
    "\n",
    "**Question: Does the amplitude of ground motion between the \"00\" and \"10\" agree now?**\n",
    "\n",
    "**Question: Which sensor looks different than the others? Any idea why?**\n",
    "\n",
    "REVIEW:\n",
    "\n",
    "We initiated an IRIS client.\n",
    "\n",
    "Step 1: We used the client to pull Earthquakes from the National Earthquake Informatin Center Catalog\n",
    "\n",
    "Step 2: We used the same client to find some GSN seismic stations, and get information about them (type of instruments and data available, response information). This information is also available from the MDA\n",
    "\n",
    "Step 3: We then used the SNCL of a seismic station to request data for an Earthquake.  We removed the response to go from digital counts to ground velocity, and filtered the data to get a better view of the Earthquake. \n"
   ]
  },
  {
   "cell_type": "code",
   "execution_count": null,
   "id": "7166d3c6",
   "metadata": {},
   "outputs": [],
   "source": []
  }
 ],
 "metadata": {
  "kernelspec": {
   "display_name": "Python 3 (ipykernel)",
   "language": "python",
   "name": "python3"
  },
  "language_info": {
   "codemirror_mode": {
    "name": "ipython",
    "version": 3
   },
   "file_extension": ".py",
   "mimetype": "text/x-python",
   "name": "python",
   "nbconvert_exporter": "python",
   "pygments_lexer": "ipython3",
   "version": "3.10.10"
  }
 },
 "nbformat": 4,
 "nbformat_minor": 5
}
